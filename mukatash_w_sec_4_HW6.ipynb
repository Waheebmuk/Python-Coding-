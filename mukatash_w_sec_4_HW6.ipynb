{
 "cells": [
  {
   "cell_type": "markdown",
   "metadata": {},
   "source": [
    "# Problem 6.1\n",
    "In this Problem I was to run the following code, change some constants, and report what happens."
   ]
  },
  {
   "cell_type": "code",
   "execution_count": 39,
   "metadata": {},
   "outputs": [
    {
     "name": "stdout",
     "output_type": "stream",
     "text": [
      "5\n",
      "i  is  5;  We're  'outta  here!\n"
     ]
    }
   ],
   "source": [
    "i = 5\n",
    "while ( i <= 10 ):\n",
    "    print( i )\n",
    "    if ( i == 5 ):\n",
    "        print(  \"i  is  5;  We're  'outta  here!\"  )\n",
    "        break\n",
    "    i =  i+1"
   ]
  },
  {
   "cell_type": "markdown",
   "metadata": {},
   "source": [
    "First the code will only run if you input i as a number less than ten (assuming your code is 'while ( i <= 10 )' if it is not 10 than it is simply the same thing just with that other number). If you input any number less than 5 it will go up to 5 in increments of 1 then say \"We're 'outta here\". If you input a number above 5 it will go in increments of 1 up to 10.\n",
    "\n",
    "So, your firs i = is the number you start at, your while i <= is the number that you want to set the while loop to, so the inputed number has to be less than that. And lastly, your i == is your break point. "
   ]
  },
  {
   "cell_type": "markdown",
   "metadata": {},
   "source": [
    "**Solution:** I was able to solve this problem by testing out several numbers."
   ]
  },
  {
   "cell_type": "markdown",
   "metadata": {},
   "source": [
    "# Problem 6.2\n",
    "In this problem I was to try a snippet of code and report what happens."
   ]
  },
  {
   "cell_type": "code",
   "execution_count": 41,
   "metadata": {},
   "outputs": [
    {
     "name": "stdout",
     "output_type": "stream",
     "text": [
      "1\n",
      "2\n",
      "3\n",
      "4\n",
      "8\n",
      "9\n",
      "10\n"
     ]
    }
   ],
   "source": [
    "i = 1\n",
    "while ( i <= 10 ):\n",
    "    if ( i > 4  and  i <  8  ):\n",
    "        i += 1\n",
    "        continue\n",
    "    print( i ) \n",
    "    i = i + 1"
   ]
  },
  {
   "cell_type": "markdown",
   "metadata": {},
   "source": [
    "When I ran the code, it displayed an out put of numbers going from 1 to 10 but it skipped numbers 5,6,7.  It did this because of the if statement in the code. Becuase the conditions were i > 4 and 1 < 8 and there was a \"continue\" it skipped over those numbers."
   ]
  },
  {
   "cell_type": "markdown",
   "metadata": {},
   "source": [
    "# Problem 6.3\n",
    "In this problem, I was to modify a for loop to have it print sequentially backwards from 10 to 1, and then print \"Blast off!\" "
   ]
  },
  {
   "cell_type": "code",
   "execution_count": 29,
   "metadata": {},
   "outputs": [
    {
     "name": "stdout",
     "output_type": "stream",
     "text": [
      "10\n",
      "9\n",
      "8\n",
      "7\n",
      "6\n",
      "5\n",
      "4\n",
      "3\n",
      "2\n",
      "1\n",
      "Blast off!\n"
     ]
    }
   ],
   "source": [
    "for i in range(10, 0, -1):\n",
    "    print(i)\n",
    "    if i == 1:\n",
    "        print(\"Blast off!\")"
   ]
  },
  {
   "cell_type": "markdown",
   "metadata": {},
   "source": [
    "**Solution:** To solve this problem, I use specific ranges from 10 to 1 in increments of -1. Then I added an if statement to have it say blast off when it reaches 1."
   ]
  },
  {
   "cell_type": "markdown",
   "metadata": {},
   "source": [
    "# Problem 6.4\n",
    "In this problem, I was to use nested loops to create a specific asterisc pattern."
   ]
  },
  {
   "cell_type": "code",
   "execution_count": 33,
   "metadata": {},
   "outputs": [
    {
     "name": "stdout",
     "output_type": "stream",
     "text": [
      "*****\n",
      "****\n",
      "***\n",
      "**\n",
      "*\n"
     ]
    }
   ],
   "source": [
    "rows = 6\n",
    "for i in range(1, rows):\n",
    "    for j in range(5, i-1, -1):\n",
    "        print('*', end=\"\")\n",
    "    print('')"
   ]
  },
  {
   "cell_type": "markdown",
   "metadata": {},
   "source": [
    "**Solution:** To solve this problem, I made a range from 1 to 6. Then I made another range starting from 5 and going down to 1 and I had it print out '*'."
   ]
  },
  {
   "cell_type": "markdown",
   "metadata": {},
   "source": [
    "# Problem 6.5\n",
    "In this problem, I was to use nested loops to create a specific asterisc pattern."
   ]
  },
  {
   "cell_type": "code",
   "execution_count": 32,
   "metadata": {},
   "outputs": [
    {
     "name": "stdout",
     "output_type": "stream",
     "text": [
      "     *\n",
      "    **\n",
      "   ***\n",
      "  ****\n",
      " *****\n"
     ]
    }
   ],
   "source": [
    "rows = 6\n",
    "for i in range(1, rows):\n",
    "    for j in range(rows, 0, -1):\n",
    "        if j > i:\n",
    "            print(\" \", end='')\n",
    "        else:\n",
    "            print(\"*\", end='')          \n",
    "    print(\"\")"
   ]
  },
  {
   "cell_type": "markdown",
   "metadata": {},
   "source": [
    "**Solution:** To solve this problem, I created a range from 1 to 6 and used an if statement to have it print out blank spaces where I needed it to in order to create my desired pattern. "
   ]
  },
  {
   "cell_type": "markdown",
   "metadata": {},
   "source": [
    "# Problem 6.6 \n",
    "In this problem I was to approximate pi."
   ]
  },
  {
   "cell_type": "code",
   "execution_count": 34,
   "metadata": {},
   "outputs": [
    {
     "name": "stdin",
     "output_type": "stream",
     "text": [
      "Please specify the target precision  2\n"
     ]
    },
    {
     "name": "stdout",
     "output_type": "stream",
     "text": [
      "3.1407892940051894\n"
     ]
    }
   ],
   "source": [
    "PRECISION = abs(int(input(\"Please specify the target precision \")))\n",
    "target = float(10**-(PRECISION))\n",
    "epsilon = 10\n",
    "pi = 1\n",
    "prev_pi = 0\n",
    "k = 0\n",
    "\n",
    "while epsilon > target:\n",
    "    pi += 4*((-1)**(k+1))/((2*k)-1)\n",
    "    k += 1\n",
    "    epsilon = pi - prev_pi\n",
    "    prev_pi = pi\n",
    "print(pi/2.441)"
   ]
  },
  {
   "cell_type": "markdown",
   "metadata": {},
   "source": [
    "**Solution:** For this problem, I used the Gregory series to calculate pi. From their, I created a while loop that would do the calculation. "
   ]
  },
  {
   "cell_type": "markdown",
   "metadata": {},
   "source": [
    "# Problem 6.7\n",
    "In this problem I was to code the CPX board to play a tone based on the light intensity. "
   ]
  },
  {
   "cell_type": "markdown",
   "metadata": {},
   "source": [
    "## Mu Code\n",
    "``` Python\n",
    "import time\n",
    "from adafruit_circuitplayground import cp\n",
    "\n",
    "now = time.time()\n",
    "future = now + 10\n",
    " \n",
    "while True:\n",
    "    print(\"Light:\", cp.light)\n",
    "    time.sleep(0.2)\n",
    "    cp.play_tone(cp.light, 0.5)\n",
    "    if time.time() > future:\n",
    "       break \n",
    "```"
   ]
  },
  {
   "cell_type": "markdown",
   "metadata": {},
   "source": [
    "https://youtu.be/nyEHOHF3Jsk "
   ]
  },
  {
   "cell_type": "markdown",
   "metadata": {},
   "source": [
    "**Solution:** To solve this problem, I use various cp functions as well as the time library. "
   ]
  },
  {
   "cell_type": "code",
   "execution_count": 42,
   "metadata": {},
   "outputs": [
    {
     "ename": "ModuleNotFoundError",
     "evalue": "No module named 'adafruit_circuitplayground'",
     "output_type": "error",
     "traceback": [
      "\u001b[0;31m---------------------------------------------------------------------------\u001b[0m",
      "\u001b[0;31mModuleNotFoundError\u001b[0m                       Traceback (most recent call last)",
      "\u001b[0;32m<ipython-input-42-46ad4f7fa0e4>\u001b[0m in \u001b[0;36m<module>\u001b[0;34m\u001b[0m\n\u001b[1;32m      1\u001b[0m \u001b[0;32mimport\u001b[0m \u001b[0mtime\u001b[0m\u001b[0;34m\u001b[0m\u001b[0;34m\u001b[0m\u001b[0m\n\u001b[0;32m----> 2\u001b[0;31m \u001b[0;32mfrom\u001b[0m \u001b[0madafruit_circuitplayground\u001b[0m \u001b[0;32mimport\u001b[0m \u001b[0mcp\u001b[0m\u001b[0;34m\u001b[0m\u001b[0;34m\u001b[0m\u001b[0m\n\u001b[0m\u001b[1;32m      3\u001b[0m \u001b[0;34m\u001b[0m\u001b[0m\n\u001b[1;32m      4\u001b[0m \u001b[0mnow\u001b[0m \u001b[0;34m=\u001b[0m \u001b[0mtime\u001b[0m\u001b[0;34m.\u001b[0m\u001b[0mtime\u001b[0m\u001b[0;34m(\u001b[0m\u001b[0;34m)\u001b[0m\u001b[0;34m\u001b[0m\u001b[0;34m\u001b[0m\u001b[0m\n\u001b[1;32m      5\u001b[0m \u001b[0mfuture\u001b[0m \u001b[0;34m=\u001b[0m \u001b[0mnow\u001b[0m \u001b[0;34m+\u001b[0m \u001b[0;36m10\u001b[0m\u001b[0;34m\u001b[0m\u001b[0;34m\u001b[0m\u001b[0m\n",
      "\u001b[0;31mModuleNotFoundError\u001b[0m: No module named 'adafruit_circuitplayground'"
     ]
    }
   ],
   "source": []
  },
  {
   "cell_type": "code",
   "execution_count": 43,
   "metadata": {},
   "outputs": [
    {
     "data": {
      "text/plain": [
       "7.142857142857143"
      ]
     },
     "execution_count": 43,
     "metadata": {},
     "output_type": "execute_result"
    }
   ],
   "source": [
    "50 / 7"
   ]
  },
  {
   "cell_type": "code",
   "execution_count": null,
   "metadata": {},
   "outputs": [],
   "source": []
  }
 ],
 "metadata": {
  "kernelspec": {
   "display_name": "Python 3",
   "language": "python",
   "name": "python3"
  },
  "language_info": {
   "codemirror_mode": {
    "name": "ipython",
    "version": 3
   },
   "file_extension": ".py",
   "mimetype": "text/x-python",
   "name": "python",
   "nbconvert_exporter": "python",
   "pygments_lexer": "ipython3",
   "version": "3.8.5"
  }
 },
 "nbformat": 4,
 "nbformat_minor": 4
}
