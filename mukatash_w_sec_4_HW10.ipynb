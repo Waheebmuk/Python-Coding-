{
 "cells": [
  {
   "cell_type": "markdown",
   "metadata": {},
   "source": [
    "# Problem 10.1\n",
    "In this problem I was to chop function."
   ]
  },
  {
   "cell_type": "code",
   "execution_count": 19,
   "metadata": {},
   "outputs": [],
   "source": [
    "def chop2(list):\n",
    "    del list[0]\n",
    "    del list[0]\n",
    "    print(list)\n",
    "    "
   ]
  },
  {
   "cell_type": "code",
   "execution_count": 20,
   "metadata": {},
   "outputs": [
    {
     "name": "stdout",
     "output_type": "stream",
     "text": [
      "[3, 4]\n"
     ]
    }
   ],
   "source": [
    "chop2([1,2,3,4])"
   ]
  },
  {
   "cell_type": "markdown",
   "metadata": {},
   "source": [
    "**Solution**: To solve this problem I created a function that takes a list as a parameter and chops the first two values."
   ]
  },
  {
   "cell_type": "markdown",
   "metadata": {},
   "source": [
    "# Problem 10.2\n",
    "In this problem I was to take a string and convert it."
   ]
  },
  {
   "cell_type": "code",
   "execution_count": 37,
   "metadata": {},
   "outputs": [
    {
     "data": {
      "text/plain": [
       "'apples, bananas, tofu, and cats'"
      ]
     },
     "execution_count": 37,
     "metadata": {},
     "output_type": "execute_result"
    }
   ],
   "source": [
    "spam = ['apples', 'bananas', 'tofu', 'cats']\n",
    "\n",
    "def comma_list(list):\n",
    "    return ', '.join(list[:-1] + ['and '+list[-1]])\n",
    "\n",
    "comma_list(spam)\n"
   ]
  },
  {
   "cell_type": "markdown",
   "metadata": {},
   "source": [
    "**Solution**: To solve this program I used the join() function to have it return as one string."
   ]
  },
  {
   "cell_type": "markdown",
   "metadata": {},
   "source": [
    "# Problem 10.3\n",
    "For this problem I was to a function that takes a list and does a specific task."
   ]
  },
  {
   "cell_type": "code",
   "execution_count": 24,
   "metadata": {},
   "outputs": [],
   "source": [
    "def d_nested_sum(numbers):\n",
    "    total = 0\n",
    "    for number in numbers:\n",
    "        for num in number:\n",
    "            total += num\n",
    "    return total / 2\n",
    "    "
   ]
  },
  {
   "cell_type": "code",
   "execution_count": 38,
   "metadata": {},
   "outputs": [
    {
     "data": {
      "text/plain": [
       "10.5"
      ]
     },
     "execution_count": 38,
     "metadata": {},
     "output_type": "execute_result"
    }
   ],
   "source": [
    "t = [[1, 2], [3], [4, 5, 6]]\n",
    "d_nested_sum(t)"
   ]
  },
  {
   "cell_type": "markdown",
   "metadata": {},
   "source": [
    "**Solution:** To solve this problem I created a for loop within a for loop."
   ]
  },
  {
   "cell_type": "markdown",
   "metadata": {},
   "source": [
    "# Problem 10.4\n",
    "In this problem I was to creat a character grid with loops."
   ]
  },
  {
   "cell_type": "code",
   "execution_count": 26,
   "metadata": {},
   "outputs": [
    {
     "name": "stdout",
     "output_type": "stream",
     "text": [
      ". . O O . O O . . \n",
      ". O O O O O O O . \n",
      ". O O O O O O O . \n",
      ". . O O O O O . . \n",
      ". . . O O O . . . \n",
      ". . . . O . . . . \n"
     ]
    }
   ],
   "source": [
    "grid=[['.', '.', '.', '.', '.', '.'],\n",
    "      ['.', 'O', 'O', '.', '.', '.'],\n",
    "      ['O', 'O', 'O', 'O', '.', '.'],\n",
    "      ['O', 'O', 'O', 'O', 'O', '.'],\n",
    "      ['.', 'O', 'O', 'O', 'O', 'O'],\n",
    "      ['O', 'O', 'O', 'O', 'O', '.'],\n",
    "      ['O', 'O', 'O', 'O', '.', '.'],\n",
    "      ['.', 'O', 'O', '.', '.', '.'],\n",
    "      ['.', '.', '.', '.', '.', '.']]\n",
    "\n",
    "\n",
    "for i in range(len(grid[0])):\n",
    "    for j in range(len(grid)):\n",
    "        print(grid[j][i], end=' ')\n",
    "    print('')"
   ]
  },
  {
   "cell_type": "markdown",
   "metadata": {},
   "source": [
    "**Solution:** To solve this problem, I used a loop within a loop. "
   ]
  },
  {
   "cell_type": "markdown",
   "metadata": {},
   "source": [
    "# Problem 10.5\n",
    "In this problem I was to create a function that takes tuples and returns their product."
   ]
  },
  {
   "cell_type": "code",
   "execution_count": 34,
   "metadata": {},
   "outputs": [
    {
     "name": "stdout",
     "output_type": "stream",
     "text": [
      "24\n",
      "192\n"
     ]
    }
   ],
   "source": [
    "def prod_all(*numbers):\n",
    "    tupl_sum = (numbers)\n",
    "    total = 1\n",
    "    for i in tupl_sum:\n",
    "        total *= i\n",
    "    return total\n",
    "\n",
    "print(prod_all(1, 2, 3, 4))\n",
    "print(prod_all(4, 6, 8))"
   ]
  },
  {
   "cell_type": "markdown",
   "metadata": {},
   "source": [
    "**Solution:** To solve this problem, I created the function prod_all that takes a tuple argument and multiples them by each other."
   ]
  },
  {
   "cell_type": "markdown",
   "metadata": {},
   "source": [
    "# Problem 10.6\n",
    "To solve this problem I was to creat a function called `cumsum_twice()` that takes a list of numbers and returns twice the cumulative sum"
   ]
  },
  {
   "cell_type": "code",
   "execution_count": 36,
   "metadata": {},
   "outputs": [
    {
     "data": {
      "text/plain": [
       "[2, 6, 12]"
      ]
     },
     "execution_count": 36,
     "metadata": {},
     "output_type": "execute_result"
    }
   ],
   "source": [
    "def cumsum_twice(numbs):\n",
    "    c_sum = []\n",
    "    total = 0\n",
    "    for i in numbs:\n",
    "        total += i\n",
    "        c_sum.append(2*total)\n",
    "    return c_sum\n",
    "\n",
    "cumsum_twice([1, 2, 3])"
   ]
  },
  {
   "cell_type": "markdown",
   "metadata": {},
   "source": [
    "# Problem 10.7 (Video at Bottom)\n",
    "In this problem I was to use the CPX board to display various intensities of light"
   ]
  },
  {
   "cell_type": "markdown",
   "metadata": {},
   "source": [
    "```Python\n",
    "import time\n",
    "from adafruit_circuitplayground import cp\n",
    "\n",
    "intensities = [0.004, 0.006, 0.01, 0.02, 0.04, 0.08, 0.16, 0.32, 0.64, 1.0]\n",
    "\n",
    "while True:\n",
    "    length = len(intensities)\n",
    "    for i in range(length):\n",
    "        cp.pixels[i] = (255*intensities[i],0,0)\n",
    "        time.sleep(0.5)\n",
    "        if i == length:\n",
    "            continue\n",
    "    for i in range(length):\n",
    "        cp.pixels[-i] = (0,255*intensities[-i],0)\n",
    "        time.sleep(0.5)\n",
    "    for i in range(length):\n",
    "        cp.pixels[i] = (0,0,255*intensities[i])\n",
    "        time.sleep(0.5)\n",
    "```"
   ]
  },
  {
   "cell_type": "markdown",
   "metadata": {},
   "source": [
    "**Solution:** To solve this problem I used for loops."
   ]
  },
  {
   "cell_type": "markdown",
   "metadata": {},
   "source": [
    "# Problem 10.8 (Video at Bottom)\n",
    "In this problem I was to have the CPX board play a sound based on the acceleration."
   ]
  },
  {
   "cell_type": "markdown",
   "metadata": {},
   "source": [
    "```Python \n",
    "import time\n",
    "from adafruit_circuitplayground import cp\n",
    "import math\n",
    "\n",
    "while True:\n",
    "    time.sleep(0.2)\n",
    "    x, y, z = cp.acceleration\n",
    "    mag_acc = math.sqrt(x*x + y*y + z*z)\n",
    "    print(\"Acceleration:\", mag_acc)\n",
    "    cp.play_tone(mag_acc, 0.5)\n"
   ]
  },
  {
   "cell_type": "markdown",
   "metadata": {},
   "source": [
    "**Solution:** I had it play a tone based on the value of acceleration."
   ]
  },
  {
   "cell_type": "markdown",
   "metadata": {},
   "source": [
    "# Problem 10.9 (Video at Bottom)\n",
    "In this problem I was to have the lights change based on acceleration."
   ]
  },
  {
   "cell_type": "markdown",
   "metadata": {},
   "source": [
    "```Python\n",
    "import time\n",
    "from adafruit_circuitplayground import cp\n",
    "\n",
    "while True:\n",
    "    time.sleep(0.2)\n",
    "    x, y, z = cp.acceleration\n",
    "    newX = int(abs(x))\n",
    "    newY = int(abs(y))\n",
    "    newZ = int(abs(z))\n",
    "    print(newX, newY, newZ)\n",
    "    cp.pixels.fill((newX, newY, newZ))\n",
    "```\n",
    "**The reason the lights are still on while the board is flat on the table is because there is still the acceleration of earths gravity which is around 9.8**"
   ]
  },
  {
   "cell_type": "markdown",
   "metadata": {},
   "source": [
    "**Solution** To solve this problem I first converted my values into positive integers then I inputed them as pixel values."
   ]
  },
  {
   "cell_type": "markdown",
   "metadata": {},
   "source": [
    "# Video 10.7-10.9"
   ]
  },
  {
   "cell_type": "markdown",
   "metadata": {},
   "source": [
    "https://youtu.be/bWoPjLi9Q7E\n",
    "\n",
    "https://img.youtube.com/vi/bWoPjLi9Q7E/0.jpg\n",
    "\n",
    "<img src=\"hw_10_pic.jpg\" width=\"400\" height=\"400\">"
   ]
  },
  {
   "cell_type": "code",
   "execution_count": null,
   "metadata": {},
   "outputs": [],
   "source": []
  }
 ],
 "metadata": {
  "kernelspec": {
   "display_name": "Python 3",
   "language": "python",
   "name": "python3"
  },
  "language_info": {
   "codemirror_mode": {
    "name": "ipython",
    "version": 3
   },
   "file_extension": ".py",
   "mimetype": "text/x-python",
   "name": "python",
   "nbconvert_exporter": "python",
   "pygments_lexer": "ipython3",
   "version": "3.8.5"
  }
 },
 "nbformat": 4,
 "nbformat_minor": 4
}
