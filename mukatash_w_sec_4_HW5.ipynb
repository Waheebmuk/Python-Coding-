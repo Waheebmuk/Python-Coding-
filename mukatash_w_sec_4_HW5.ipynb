{
 "cells": [
  {
   "cell_type": "markdown",
   "metadata": {},
   "source": [
    "# Problem 5.1\n",
    "In this problem I was to explain what an escape character is and its uses"
   ]
  },
  {
   "cell_type": "markdown",
   "metadata": {},
   "source": [
    "Escape Characters are character's we use to make sure we get our desired string. For example is we have a string 'Waheeb's grades are good' then we would have an error because the ' in Waheeb's would get counted as the end of the string and there would be an error. To overcome this obstacle we use the escape character \\ because it tells the Python interpreter to treat the single quote as a part of the string."
   ]
  },
  {
   "cell_type": "markdown",
   "metadata": {},
   "source": [
    "# Problem 5.2\n",
    "In this problem I was to explain what \\n and \\t escape characters represent. "
   ]
  },
  {
   "cell_type": "markdown",
   "metadata": {},
   "source": [
    "The \\t escape character represents a tab. The \\n character represents a newline."
   ]
  },
  {
   "cell_type": "markdown",
   "metadata": {},
   "source": [
    "# Problem 5.3\n",
    "In this problem I was to answer how I put a \\ in a string."
   ]
  },
  {
   "cell_type": "markdown",
   "metadata": {},
   "source": [
    "To put a \\ in a string, you can put it before the single quote. For example, 'Waheeb \\ 's grades are good' then I would not have an error. Or another example is \"I like: \\n Movies and Shows\" here I created a newline for Movies and Shows."
   ]
  },
  {
   "cell_type": "markdown",
   "metadata": {},
   "source": [
    "# Problem 5.4\n",
    "In this problem I was to explain the difference between a single and double quote."
   ]
  },
  {
   "cell_type": "markdown",
   "metadata": {},
   "source": [
    "\"Howl's Moving Castle\" is a valid string. The reason we do not have to put a \\ is because we started with double quotes. Once we start a string with \" in Python we have to end it with a \" therefore anything inside the double quotes will be counted even the '. As long as if is a different character it will be valid. We use a \\ if we have a ' within a '  ' or a \" within a \"  \" "
   ]
  },
  {
   "cell_type": "markdown",
   "metadata": {},
   "source": [
    "# Problem 5.5\n",
    "In this problem I was to print statements using a specific method."
   ]
  },
  {
   "cell_type": "code",
   "execution_count": 6,
   "metadata": {},
   "outputs": [
    {
     "name": "stdout",
     "output_type": "stream",
     "text": [
      "Hello my name is Waheeb and I am 18 years old.\n",
      "Hello my name is Waheeb and I am 18 years old.\n"
     ]
    }
   ],
   "source": [
    "my_name = \"Waheeb\"\n",
    "my_age = \"18\"\n",
    "\n",
    "print(\"Hello my name is\", my_name, \"and I am\", my_age, \"years old.\")\n",
    "\n",
    "print(\"Hello my name is {my_name} and I am {my_age} years old.\".format(my_name = \"Waheeb\", my_age = 18))"
   ]
  },
  {
   "cell_type": "markdown",
   "metadata": {},
   "source": [
    "**Solution:** I printed the desired sentance in multiple ways."
   ]
  },
  {
   "cell_type": "markdown",
   "metadata": {},
   "source": [
    "# Problem 5.6\n",
    "In this problem I was to use various useful string methods."
   ]
  },
  {
   "cell_type": "code",
   "execution_count": 66,
   "metadata": {},
   "outputs": [
    {
     "name": "stdout",
     "output_type": "stream",
     "text": [
      "The hero gets in trouble.\n",
      "THE HERO GETS IN TROUBLE.\n",
      "the hero gets in trouble.\n",
      "False\n",
      "etsthe Hero gets IN trouble.\n"
     ]
    }
   ],
   "source": [
    "str1 = 'the Hero gets IN trouble.'\n",
    "\n",
    "print(str1.capitalize())\n",
    "print(str1.upper())\n",
    "print(str1.upper().lower())\n",
    "print(str1[4:7].islower())\n",
    "print('ets' + str1)"
   ]
  },
  {
   "cell_type": "markdown",
   "metadata": {},
   "source": [
    "**Solution:** To solve this problem I used various string methods such as capitalize(), upper(), upper().lower(), and lower()."
   ]
  },
  {
   "cell_type": "markdown",
   "metadata": {},
   "source": [
    "# Problem 5.7\n",
    "In this problem I was to format various math functions such as e and pi."
   ]
  },
  {
   "cell_type": "code",
   "execution_count": 67,
   "metadata": {},
   "outputs": [
    {
     "name": "stdout",
     "output_type": "stream",
     "text": [
      "\t \t   pi \t\t e\n",
      "\t \t --------------------\n",
      "The values are: 3.14159       2.71828\n"
     ]
    }
   ],
   "source": [
    "import math\n",
    "pi = round(math.pi, 5)\n",
    "e = round(math.e, 5)\n",
    "\n",
    "\n",
    "print(\"\\t \\t   pi \\t\\t e\")\n",
    "print(\"\\t \\t --------------------\")\n",
    "print(\"The values are:\", pi, \"     \", e) \n"
   ]
  },
  {
   "cell_type": "markdown",
   "metadata": {},
   "source": [
    "**Solution:** I solved the problem using various formating methods such as \\t."
   ]
  },
  {
   "cell_type": "markdown",
   "metadata": {},
   "source": [
    "# Problem 5.8\n",
    "For this problem I was to code the CPX board to make various LED's turn on with the press of a button."
   ]
  },
  {
   "cell_type": "markdown",
   "metadata": {},
   "source": [
    "https://youtu.be/DdBU31A2x9E\n",
    "\n",
    "https://img.youtube.com/vi/DdBU31A2x9E/0.jpg\n",
    "\n",
    "<img src=\"pic_HW5.jpg\" width=\"400\" height=\"400\">"
   ]
  },
  {
   "cell_type": "markdown",
   "metadata": {},
   "source": [
    "## Mu Code\n",
    "``` Python\n",
    "from adafruit_circuitplayground import cp\n",
    "\n",
    "cp.pixels.brightness = 0.3\n",
    "\n",
    "while True:\n",
    "    if cp.button_a:\n",
    "        cp.pixels[0] = (0, 255, 0)\n",
    "    else:\n",
    "        cp.pixels[0] = (0, 0, 0)\n",
    "    if cp.button_b:\n",
    "        cp.pixels[0] = (0, 0, 255)\n",
    "    else:\n",
    "        cp.pixels[0] = (0, 0, 0)\n",
    "```"
   ]
  },
  {
   "cell_type": "markdown",
   "metadata": {},
   "source": [
    "**Solution:** I was able to solve this problem by using the cp.button_a and cp.button_b buttons to turn the light to green and blue."
   ]
  },
  {
   "cell_type": "code",
   "execution_count": null,
   "metadata": {},
   "outputs": [],
   "source": []
  }
 ],
 "metadata": {
  "kernelspec": {
   "display_name": "Python 3",
   "language": "python",
   "name": "python3"
  },
  "language_info": {
   "codemirror_mode": {
    "name": "ipython",
    "version": 3
   },
   "file_extension": ".py",
   "mimetype": "text/x-python",
   "name": "python",
   "nbconvert_exporter": "python",
   "pygments_lexer": "ipython3",
   "version": "3.8.5"
  }
 },
 "nbformat": 4,
 "nbformat_minor": 4
}
