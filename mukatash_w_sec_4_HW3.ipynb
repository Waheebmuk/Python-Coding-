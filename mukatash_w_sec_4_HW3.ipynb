{
 "cells": [
  {
   "cell_type": "markdown",
   "metadata": {},
   "source": [
    "# Problem 3.1\n",
    "For this problem I am to find out whether the boolean statements are true or false and explain why"
   ]
  },
  {
   "cell_type": "code",
   "execution_count": 7,
   "metadata": {},
   "outputs": [
    {
     "name": "stdout",
     "output_type": "stream",
     "text": [
      "False\n",
      "True\n",
      "True\n",
      "False\n",
      "False\n",
      "True\n"
     ]
    }
   ],
   "source": [
    "print((5 > 5) and (3 == 6))\n",
    "# (5 > 5) is false. (3 == 6) is false. The AND of two false statements is False\n",
    "\n",
    "print(not (5 > 6))\n",
    "# (5 > 6) is false and since there is there is a not it reaffirms that the statement is false, therefor the overall statement is true\n",
    "\n",
    "print((5 > 4) or (4 == 5))\n",
    "# (5 > 4) is true, (4 == 5) is false; since this is an or statment only one has to be true\n",
    "\n",
    "print(not ((6 > 4) or (3 == 7)))\n",
    "# (6 > 4) is true, (3 == 7) is false;  since this is an or statment only one has to be true but there is a not which makes the statment false\n",
    "\n",
    "print((True and True) and (True == False))\n",
    "# (True and True) is true, (True == False) is false, since this is an and statment both have to be true, therefore the statement is false\n",
    "\n",
    "print((not True) or (not False))\n",
    "# (not True) is false, (not False) is true; since this is an or statment only one has to be true "
   ]
  },
  {
   "cell_type": "markdown",
   "metadata": {},
   "source": [
    "# Problem 3.2 \n",
    "For this problem I am to determine which of the following assignments are invalid."
   ]
  },
  {
   "cell_type": "markdown",
   "metadata": {},
   "source": [
    "n = 1 \n",
    "\n",
    "n=2\n",
    "\n",
    "n = -3 \n",
    "\n",
    "n=-4\n",
    "\n",
    "n = +5\n",
    "\n",
    "n = --6\n",
    "\n",
    "n  = n\n",
    "\n",
    "0  =  n   **INVALID** - because you cannot start with a number on the lefthand side of an assignment \n",
    "\n",
    "x = 3.4\n",
    "\n",
    "x = 0.5\n",
    "\n",
    "x = 00.5\n",
    "\n",
    "x  =  .6\n",
    "\n",
    "x  =  7.\n",
    "\n",
    "x  =  .0\n",
    "\n",
    "x  =  -1.\n",
    "\n",
    "x = --2.2\n",
    "\n",
    "s = \"Kermit\" \n",
    "\n",
    "s  =  'Kermit' \n",
    "\n",
    "s =  `Kermit`   **INVALID** - because to assign a string you must use '' or \"\" not `` \n",
    "\n",
    "s == \"Kermit\" \n",
    "\n",
    "s  =  \"Kermit'   **INVALID** - because to assign a string you must use '' or \"\" not \"'\n",
    "\n",
    "s = \"\"Kermit\" the Frog\"   **INVALID** - because only one set of '' or \"\" can be used in an assignment\n",
    "\n",
    "s  =  \"'Kermit'  the  Frog\"\n",
    "\n",
    "s  =  'It's  been  a  long,  long  time.'\n",
    "\n",
    "s = \"Ke  **INVALID** - because an assignment has to be on one line (not spaced out)\n",
    "rmit\"\n",
    "\n",
    "s = \"Ke\\ rmit\"\n",
    "\n",
    "s = \"4th_of_July\" \n",
    "\n",
    "4th_of_July = s   **INVALID** - because you cannot start with a number on the lefthand side of an assignment \n",
    "\n",
    "\"s\" = \"ess\"   **INVALID** - because you cannot have a \"\" on the left hand side\n",
    "\n",
    "b  =  3\n",
    "\n",
    "a = b = 3 \n",
    "\n",
    "b = a   (if on it's own this would be invalid, but since a is already defined it is valid)\n",
    "\n",
    "b  = c   **INVALID** - because c is not defined \n",
    "\n",
    "a =  b  =  42 \n",
    "\n",
    "a = 14 = 42   **INVALID** - because the statement is contradicting itself"
   ]
  },
  {
   "cell_type": "markdown",
   "metadata": {},
   "source": [
    "# Problem 3.3\n",
    "For this problem I am to rewrite the follwing expresion \"y = a * x ** 2 + b * x ** 1 + c - d / k * x ** -1\" with parenthesis"
   ]
  },
  {
   "cell_type": "markdown",
   "metadata": {},
   "source": [
    "y = (a * (x ** 2)) + ((b * (x ** 1)) + c) - (d / (k * (x ** -1)))"
   ]
  },
  {
   "cell_type": "markdown",
   "metadata": {},
   "source": [
    "**Solution:** I solved this problem by using the order of opperations PEMDAS."
   ]
  },
  {
   "cell_type": "markdown",
   "metadata": {},
   "source": [
    "# Problem 3.4\n",
    "For this problem I was to assign to string variables of my firstname and lastname, and with them create a new variable of my fullname. Lastly print the full name 5 times."
   ]
  },
  {
   "cell_type": "code",
   "execution_count": 6,
   "metadata": {},
   "outputs": [
    {
     "data": {
      "text/plain": [
       "'WaheebMukatashWaheebMukatashWaheebMukatashWaheebMukatashWaheebMukatash'"
      ]
     },
     "execution_count": 6,
     "metadata": {},
     "output_type": "execute_result"
    }
   ],
   "source": [
    "x = \"Waheeb\"\n",
    "y = \"Mukatash\"\n",
    "z = x + y\n",
    "z * 5"
   ]
  },
  {
   "cell_type": "markdown",
   "metadata": {},
   "source": [
    "**Solution:** First, I assigned x as my first name and y as my last name. Then, I used string concentration to add those two together to create my full name. Lastly, I used the string operator * to print my fullname 5 times."
   ]
  },
  {
   "cell_type": "markdown",
   "metadata": {},
   "source": [
    "# Problem 3.5\n",
    "For this problem, I was to list the type and value of the listed statements."
   ]
  },
  {
   "cell_type": "markdown",
   "metadata": {},
   "source": [
    "- b = 5 / 2 **Type:** float **Value:** 2.5\n",
    "- c = 15 // 4 **Type:** int **Value:** 3\n",
    "- d = 6 % 4 **Type:** int **Value:** 2\n",
    "- e = 2 * 3 + 7 **Type:** int **Value:** 13"
   ]
  },
  {
   "cell_type": "markdown",
   "metadata": {},
   "source": [
    "**Solution:** I was able to solve these problems by first determining the value, after that I was able to determine the type."
   ]
  },
  {
   "cell_type": "markdown",
   "metadata": {},
   "source": [
    "# Problem 3.6\n",
    "This was a CPX board problem, I was to determine how much I can reduce the sleep time and still see the red light flash, as well as list out differences between the two types of apporoaches of code."
   ]
  },
  {
   "cell_type": "markdown",
   "metadata": {},
   "source": [
    "1. The smallest number I can set the sleep time to and still see the red LED flashing is 0.02 seconds. Anything after that the human eye  cannot see it flash, and it will appear as if the light stays on.\n",
    "\n",
    "2. Yes the two codes are different, you have more control when using the first code rather than the second. In the first code you can control both how long the light is on and off as separate values, thus you can choose exactly how long you want it on and how long you want it off. In the second code you can only choose one value for both the on and off time thus it will be a consistent flash because the on and off have the same value."
   ]
  },
  {
   "cell_type": "markdown",
   "metadata": {},
   "source": [
    "**Solution:** I was able to solve this problem by experimenting with the CPX board on Mu Editor."
   ]
  },
  {
   "cell_type": "code",
   "execution_count": null,
   "metadata": {},
   "outputs": [],
   "source": []
  }
 ],
 "metadata": {
  "kernelspec": {
   "display_name": "Python 3",
   "language": "python",
   "name": "python3"
  },
  "language_info": {
   "codemirror_mode": {
    "name": "ipython",
    "version": 3
   },
   "file_extension": ".py",
   "mimetype": "text/x-python",
   "name": "python",
   "nbconvert_exporter": "python",
   "pygments_lexer": "ipython3",
   "version": "3.8.5"
  }
 },
 "nbformat": 4,
 "nbformat_minor": 4
}
