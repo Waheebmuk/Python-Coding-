{
 "cells": [
  {
   "cell_type": "markdown",
   "metadata": {},
   "source": [
    "# Problem 4.1\n",
    "In this problem I was to create code that determines what your grade is based on the percentage you got."
   ]
  },
  {
   "cell_type": "code",
   "execution_count": 5,
   "metadata": {},
   "outputs": [
    {
     "name": "stdout",
     "output_type": "stream",
     "text": [
      "[3]\n"
     ]
    }
   ],
   "source": [
    "red = [1,2,3]\n",
    "print(red[-1:])"
   ]
  },
  {
   "cell_type": "code",
   "execution_count": 9,
   "metadata": {},
   "outputs": [
    {
     "name": "stdout",
     "output_type": "stream",
     "text": [
      "What is your percentage score?\n"
     ]
    },
    {
     "name": "stdin",
     "output_type": "stream",
     "text": [
      "None 91\n"
     ]
    },
    {
     "name": "stdout",
     "output_type": "stream",
     "text": [
      "Very good! You got 91.0% --> A-\n"
     ]
    }
   ],
   "source": [
    "percentage = float(input(print('What is your percentage score?')))\n",
    "if (percentage  > 100.0):\n",
    "    print(\"Super! You got {}% --> A+\".format(percentage))\n",
    "elif (percentage >= 93.0):\n",
    "    print(\"Excellent! You got {}% --> A\".format(percentage))\n",
    "elif (percentage >= 90.0):\n",
    "    print(\"Very good! You got {}% --> A-\".format(percentage))\n",
    "elif (percentage >= 88.0):\n",
    "    print(\"Good job! You got {}% --> B+\".format(percentage))\n",
    "elif (percentage >= 83.0):\n",
    "    print(\"Nice! You got {}% --> B\".format(percentage))\n",
    "elif (percentage >= 80.0):\n",
    "    print(\"Good! You got {}% --> B-\".format(percentage))\n",
    "elif (percentage >= 78.0):\n",
    "    print(\"You passed! You got {}% --> C+\".format(percentage))\n",
    "elif (percentage >= 72.0):\n",
    "    print(\"Well you still passed! You got {}% --> C\".format(percentage))\n",
    "elif (percentage >= 69.0):\n",
    "    print(\"Double check to see if you passed. You got {}% --> C-\".format(percentage))\n",
    "elif (percentage >= 66.0):\n",
    "    print(\"Yikes! You got {}% --> D+\".format(percentage))\n",
    "elif (percentage >= 62.0):\n",
    "    print (\"Not good! You got {}% --> D\".format(percentage))\n",
    "elif (percentage >= 59.0):\n",
    "    print(\"Bad news! You got {}% --> D-\".format(percentage))\n",
    "    \n",
    "else:\n",
    "    print(\"Uh oh! You got {}% --> F\".format(percentage))"
   ]
  },
  {
   "cell_type": "markdown",
   "metadata": {},
   "source": [
    "**Solution:** To solve this problems I added the neccesary elif statements in order to input all the possible grades."
   ]
  },
  {
   "cell_type": "markdown",
   "metadata": {},
   "source": [
    "# Problem 4.2\n",
    "First, I was to write a code that reads the current time and converts it to a time of day in hours, minutes, and seconds, plus the number of days since the epoch. \n",
    "\n",
    "Then I was to add a condition structure that will print an additional line depending on the time of day. \n"
   ]
  },
  {
   "cell_type": "code",
   "execution_count": 12,
   "metadata": {},
   "outputs": [
    {
     "name": "stdout",
     "output_type": "stream",
     "text": [
      "San Francisco's current time (in 24 hr format) is 19:35:18\n",
      "Time since the epoch in (Days:Hours:Minutes:Seconds) 18753:19:35:18\n",
      "Good evening!\n"
     ]
    }
   ],
   "source": [
    "import time\n",
    "\n",
    "myEpoch = time.time()\n",
    "secondsInDay = 86400\n",
    "secondsInHour = 3600\n",
    "secondsInMinute = 60\n",
    "\n",
    "days = myEpoch // secondsInDay\n",
    "hours = (myEpoch % secondsInDay) // secondsInHour + 16\n",
    "minutes = (myEpoch % secondsInDay) % secondsInHour // secondsInMinute\n",
    "seconds = (myEpoch % secondsInDay) % secondsInHour % secondsInMinute\n",
    "\n",
    "print(\"San Francisco's current time (in 24 hr format) is %d:%d:%d\" %(hours, minutes, seconds)) \n",
    "print(\"Time since the epoch in (Days:Hours:Minutes:Seconds) %d:%d:%d:%d\" %(days, hours, minutes, seconds))\n",
    "\n",
    "if hours <= 12:\n",
    "    print(\"Good morning!\")\n",
    "elif (hours > 12) and (hours <= 18):\n",
    "    print(\"Good afternoon!\")\n",
    "elif (hours > 18) and (hours <= 24):\n",
    "    print(\"Good evening!\") "
   ]
  },
  {
   "cell_type": "markdown",
   "metadata": {},
   "source": [
    "**Solution:** To solve this problem I first had to import the time library and use the time() function. I was then given the epoch. I then used basic converstion to convert the time into days, hours, minutes, and seconds. I used the floor (//) and modul (%) division to get my time in a 24 hour format. I then added the days since the epoch to that time.\n",
    "\n",
    "Lastly I added if statments to display a greeting to the corresponding times."
   ]
  },
  {
   "cell_type": "markdown",
   "metadata": {},
   "source": [
    "# Problem 4.3 \n",
    "For this problem I was to code the CPX to detect shaking or tapping using the accelerometer and have the red LED flash accordingly. I then uploaded a video of my work."
   ]
  },
  {
   "cell_type": "markdown",
   "metadata": {},
   "source": [
    "https://www.youtube.com/watch?v=ccFlBf3dkqY <br>\n",
    "\n",
    "<img src=\"lab4.png\" width=\"400\" height=\"400\">\n"
   ]
  },
  {
   "cell_type": "markdown",
   "metadata": {},
   "source": [
    "## My Mu Code\n",
    "```Python\n",
    "import time\n",
    "\n",
    "from adafruit_circuitplayground import cp\n",
    "\n",
    "cp.detect_taps = 2\n",
    "\n",
    "while True:\n",
    "    cp.red_led = True\n",
    "    time.sleep(0.5)\n",
    "    cp.red_led = False\n",
    "    time.sleep(0.5)\n",
    "    if cp.tapped:\n",
    "        print(\"Tapped!\")\n",
    "        time.sleep(0.05)\n",
    "        cp.red_led = True\n",
    "        time.sleep(5)\n",
    "        cp.red_led = False\n",
    "        time.sleep(0)\n",
    "    if cp.shake(shake_threshold=10):\n",
    "        print(\"Shake detected!\")\n",
    "        cp.red_led = True\n",
    "        time.sleep(10)\n",
    "        cp.red_led = False\n",
    "        time.sleep(0)\n",
    "```"
   ]
  },
  {
   "cell_type": "markdown",
   "metadata": {},
   "source": [
    "**Solution:** First I made the red light flash (on for 0.5 sec & off for 0.5 sec) and run that in a loop. Then I added if statments. It it is tapped the red light will stay on for 5 seconds then resume to the loop. If the board is shaked then the red light will stay on for 10 seconds then resume to the loop."
   ]
  }
 ],
 "metadata": {
  "kernelspec": {
   "display_name": "Python 3",
   "language": "python",
   "name": "python3"
  },
  "language_info": {
   "codemirror_mode": {
    "name": "ipython",
    "version": 3
   },
   "file_extension": ".py",
   "mimetype": "text/x-python",
   "name": "python",
   "nbconvert_exporter": "python",
   "pygments_lexer": "ipython3",
   "version": "3.8.5"
  }
 },
 "nbformat": 4,
 "nbformat_minor": 4
}
