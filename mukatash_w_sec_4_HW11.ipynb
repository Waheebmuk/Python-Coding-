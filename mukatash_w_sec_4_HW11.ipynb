{
 "cells": [
  {
   "cell_type": "markdown",
   "metadata": {},
   "source": [
    "# Problem 11.1 \n",
    "For this problem I was to add two colors of my choice \"MyFavorite\" and \"NotMyFavorite\" to the cmap given."
   ]
  },
  {
   "cell_type": "code",
   "execution_count": null,
   "metadata": {},
   "outputs": [],
   "source": [
    "cmap      = { \"black\":  [  0,  0,  0],\n",
    "              \"white\":  [255,255,255],\n",
    "              \"red\":    [255,  0,  0],\n",
    "              \"lime\":   [  0,255,  0],\n",
    "              \"blue\":   [  0,  0,255],\n",
    "              \"yellow\": [255,255,  0],\n",
    "              \"cyan\":   [  0,255,255],\n",
    "              \"magenta\":[255,  0,255],\n",
    "              \"silver\": [192,192,192],\n",
    "              \"gray\":   [128,128,128],\n",
    "              \"maroon\": [128,  0,  0],\n",
    "              \"olive\":  [128,128,  0],\n",
    "              \"green\":  [  0,256,  0],\n",
    "              \"purple\": [128,  0,128],\n",
    "              \"teal\":   [  0,128,128],\n",
    "              \"navy\":   [  0,  0,128],\n",
    "              \"MyFavorite\": [255, 38, 38],\n",
    "              \"NotMyFavorite\": [143, 101, 158],\n",
    "            }"
   ]
  },
  {
   "cell_type": "markdown",
   "metadata": {},
   "source": [
    "# Problem 11.2\n",
    "For this problem I was to write a function process_spec that takes a dictionary (cmap), a list (spec) and a Boolean variable (Button A) as arguments and returns False if the spec has a color that is not defined in the cmap or if Button A was pressed to stop the animation Otherwise return True."
   ]
  },
  {
   "cell_type": "code",
   "execution_count": 6,
   "metadata": {},
   "outputs": [
    {
     "ename": "ModuleNotFoundError",
     "evalue": "No module named 'adafruit_circuitplayground'",
     "output_type": "error",
     "traceback": [
      "\u001b[0;31m---------------------------------------------------------------------------\u001b[0m",
      "\u001b[0;31mModuleNotFoundError\u001b[0m                       Traceback (most recent call last)",
      "\u001b[0;32m<ipython-input-6-b46c653e035f>\u001b[0m in \u001b[0;36m<module>\u001b[0;34m\u001b[0m\n\u001b[0;32m----> 1\u001b[0;31m \u001b[0;32mfrom\u001b[0m \u001b[0madafruit_circuitplayground\u001b[0m \u001b[0;32mimport\u001b[0m \u001b[0mcp\u001b[0m\u001b[0;34m\u001b[0m\u001b[0;34m\u001b[0m\u001b[0m\n\u001b[0m\u001b[1;32m      2\u001b[0m \u001b[0;34m\u001b[0m\u001b[0m\n\u001b[1;32m      3\u001b[0m cmap      = { \"black\":  [  0,  0,  0],\n\u001b[1;32m      4\u001b[0m               \u001b[0;34m\"white\"\u001b[0m\u001b[0;34m:\u001b[0m  \u001b[0;34m[\u001b[0m\u001b[0;36m255\u001b[0m\u001b[0;34m,\u001b[0m\u001b[0;36m255\u001b[0m\u001b[0;34m,\u001b[0m\u001b[0;36m255\u001b[0m\u001b[0;34m]\u001b[0m\u001b[0;34m,\u001b[0m\u001b[0;34m\u001b[0m\u001b[0;34m\u001b[0m\u001b[0m\n\u001b[1;32m      5\u001b[0m               \u001b[0;34m\"red\"\u001b[0m\u001b[0;34m:\u001b[0m    \u001b[0;34m[\u001b[0m\u001b[0;36m255\u001b[0m\u001b[0;34m,\u001b[0m  \u001b[0;36m0\u001b[0m\u001b[0;34m,\u001b[0m  \u001b[0;36m0\u001b[0m\u001b[0;34m]\u001b[0m\u001b[0;34m,\u001b[0m\u001b[0;34m\u001b[0m\u001b[0;34m\u001b[0m\u001b[0m\n",
      "\u001b[0;31mModuleNotFoundError\u001b[0m: No module named 'adafruit_circuitplayground'"
     ]
    }
   ],
   "source": [
    "from adafruit_circuitplayground import cp\n",
    "\n",
    "cmap      = { \"black\":  [  0,  0,  0],\n",
    "              \"white\":  [255,255,255],\n",
    "              \"red\":    [255,  0,  0],\n",
    "              \"lime\":   [  0,255,  0],\n",
    "              \"blue\":   [  0,  0,255],\n",
    "              \"yellow\": [255,255,  0],\n",
    "              \"cyan\":   [  0,255,255],\n",
    "              \"magenta\":[255,  0,255],\n",
    "              \"silver\": [192,192,192],\n",
    "              \"gray\":   [128,128,128],\n",
    "              \"maroon\": [128,  0,  0],\n",
    "              \"olive\":  [128,128,  0],\n",
    "              \"green\":  [  0,256,  0],\n",
    "              \"purple\": [128,  0,128],\n",
    "              \"teal\":   [  0,128,128],\n",
    "              \"navy\":   [  0,  0,128],\n",
    "              \"MyFavorite\": [255, 38, 38],\n",
    "              \"NotMyFavorite\": [143, 101, 158],\n",
    "            }\n",
    "\n",
    "\n",
    "spec = [ [\"MyFavorite\", 4.0],\n",
    "         [\"BLACK\",      2.0],\n",
    "         [\"Red\",        0.5],\n",
    "         [\"White\",      0.5],\n",
    "         [\"blue\",       0.5],\n",
    "         [\"Black\",      2.0],\n",
    "         [\"Yellow\",     0.25],\n",
    "         [\"salmon\",      1.0],\n",
    "         [\"lime\",       0.25],\n",
    "         [\"Cyan\",       0.25],\n",
    "         [\"teal\",       0.25],\n",
    "         [\"blue\",       0.25],\n",
    "         [\"Magenta\",    0.75],\n",
    "         [\"purple\",     0.75],\n",
    "         [\"maroon\",     0.75],\n",
    "         [\"BLACK\",      0.75],\n",
    "         [\"Red\",        0.1],\n",
    "         [\"BLACK\",      0.1],\n",
    "         [\"red\",        0.1],\n",
    "         [\"black\",      0.1],\n",
    "         [\"Red\",        0.1],\n",
    "         [\"Black\",      0.1],\n",
    "         [\"Red\",        0.1],\n",
    "         [\"black\",      1.0],\n",
    "         [\"NotMyFavorite\", 1.0],\n",
    "         [\"black\",         1.0]\n",
    "       ]\n",
    "\n",
    "def process_spec(color_map, action_list, button):\n",
    "    for action in action_list:\n",
    "        if cp.button_a:\n",
    "            print('User request to end animation.')\n",
    "            return False\n",
    "    for color, duration in action_list:\n",
    "        if color.lower() not in color_map and color not in color_map:\n",
    "            print(\"Color: \" + color + \" was not in cmap\")\n",
    "            return False\n",
    "    print(\"Return True\")\n",
    "    return True\n",
    "\n",
    "process_spec(cmap, spec, cp.button_a)"
   ]
  },
  {
   "cell_type": "markdown",
   "metadata": {},
   "source": [
    "**Solution:** I got an error saying salmon was not in the cmap."
   ]
  },
  {
   "cell_type": "markdown",
   "metadata": {},
   "source": [
    "# Problem 11.3 \n",
    "For this problem I was to add salmon to the cmap."
   ]
  },
  {
   "cell_type": "code",
   "execution_count": 3,
   "metadata": {},
   "outputs": [],
   "source": [
    "cmap      = { \"black\":  [  0,  0,  0],\n",
    "              \"white\":  [255,255,255],\n",
    "              \"red\":    [255,  0,  0],\n",
    "              \"lime\":   [  0,255,  0],\n",
    "              \"blue\":   [  0,  0,255],\n",
    "              \"yellow\": [255,255,  0],\n",
    "              \"cyan\":   [  0,255,255],\n",
    "              \"magenta\":[255,  0,255],\n",
    "              \"silver\": [192,192,192],\n",
    "              \"gray\":   [128,128,128],\n",
    "              \"maroon\": [128,  0,  0],\n",
    "              \"olive\":  [128,128,  0],\n",
    "              \"green\":  [  0,256,  0],\n",
    "              \"purple\": [128,  0,128],\n",
    "              \"teal\":   [  0,128,128],\n",
    "              \"navy\":   [  0,  0,128],\n",
    "              \"MyFavorite\": [255, 38, 38],\n",
    "              \"NotMyFavorite\": [143, 101, 158],\n",
    "              \"salmon\": [255, 140, 105],\n",
    "            }"
   ]
  },
  {
   "cell_type": "markdown",
   "metadata": {},
   "source": [
    "**Solution:** I had the same code as before yet added salmon to the cmap."
   ]
  },
  {
   "cell_type": "markdown",
   "metadata": {},
   "source": [
    "# Problem 11.4 \n",
    "For this problem I was to create a light show."
   ]
  },
  {
   "cell_type": "code",
   "execution_count": null,
   "metadata": {},
   "outputs": [],
   "source": [
    "from adafruit_circuitplayground import cp\n",
    "import time\n",
    "\n",
    "\n",
    "cmap      = { \"black\":  [  0,  0,  0],\n",
    "              \"white\":  [255,255,255],\n",
    "              \"red\":    [255,  0,  0],\n",
    "              \"lime\":   [  0,255,  0],\n",
    "              \"blue\":   [  0,  0,255],\n",
    "              \"yellow\": [255,255,  0],\n",
    "              \"cyan\":   [  0,255,255],\n",
    "              \"magenta\":[255,  0,255],\n",
    "              \"silver\": [192,192,192],\n",
    "              \"gray\":   [128,128,128],\n",
    "              \"maroon\": [128,  0,  0],\n",
    "              \"olive\":  [128,128,  0],\n",
    "              \"green\":  [  0,256,  0],\n",
    "              \"purple\": [128,  0,128],\n",
    "              \"teal\":   [  0,128,128],\n",
    "              \"navy\":   [  0,  0,128],\n",
    "              \"myfavorite\": [255, 38, 38],\n",
    "              \"notmyfavorite\": [143, 101, 158],\n",
    "              \"salmon\": [255, 140, 105],\n",
    "            }\n",
    "\n",
    "\n",
    "spec = [ [\"MyFavorite\", 4.0],\n",
    "         [\"BLACK\",      2.0],\n",
    "         [\"Red\",        0.5],\n",
    "         [\"White\",      0.5],\n",
    "         [\"blue\",       0.5],\n",
    "         [\"Black\",      2.0],\n",
    "         [\"Yellow\",     0.25],\n",
    "         [\"salmon\",      1.0],\n",
    "         [\"lime\",       0.25],\n",
    "         [\"Cyan\",       0.25],\n",
    "         [\"teal\",       0.25],\n",
    "         [\"blue\",       0.25],\n",
    "         [\"Magenta\",    0.75],\n",
    "         [\"purple\",     0.75],\n",
    "         [\"maroon\",     0.75],\n",
    "         [\"BLACK\",      0.75],\n",
    "         [\"Red\",        0.1],\n",
    "         [\"BLACK\",      0.1],\n",
    "         [\"red\",        0.1],\n",
    "         [\"black\",      0.1],\n",
    "         [\"Red\",        0.1],\n",
    "         [\"Black\",      0.1],\n",
    "         [\"Red\",        0.1],\n",
    "         [\"black\",      1.0],\n",
    "         [\"NotMyFavorite\", 1.0],\n",
    "         [\"black\",         1.0]\n",
    "       ]\n",
    "\n",
    "def process_spec(color_map, action_list, button):\n",
    "    for action in action_list:\n",
    "        if cp.button_a:\n",
    "            print('User request to end animation.')\n",
    "            return False\n",
    "    for color, duration in action_list:\n",
    "        if color.lower() not in color_map and color not in color_map:\n",
    "            print(\"Color: \" + color + \" is not in the cmap\")\n",
    "            return False\n",
    "    print(\"True\")\n",
    "    return True\n",
    "\n",
    "light_show = process_spec(cmap, spec, cp.button_a)\n",
    "\n",
    "while light_show == True:\n",
    "    for colors in spec:\n",
    "        colors_m = colors[0].lower()\n",
    "        cp.pixels[0] = tuple(cmap[colors_m])\n",
    "        time.sleep(colors[1])"
   ]
  },
  {
   "cell_type": "markdown",
   "metadata": {},
   "source": [
    "https://youtu.be/G0_-WfOqVGM\n",
    "\n",
    "https://img.youtube.com/vi/G0_-WfOqVGM/0.jpg\n",
    "\n",
    "<img src=\"hw11_pic.jpg\" width=\"400\" height=\"400\">\n"
   ]
  },
  {
   "cell_type": "markdown",
   "metadata": {},
   "source": [
    "**Solution**: I was able to create a changing color to the first LED of the CPX board."
   ]
  },
  {
   "cell_type": "code",
   "execution_count": null,
   "metadata": {},
   "outputs": [],
   "source": []
  }
 ],
 "metadata": {
  "kernelspec": {
   "display_name": "Python 3",
   "language": "python",
   "name": "python3"
  },
  "language_info": {
   "codemirror_mode": {
    "name": "ipython",
    "version": 3
   },
   "file_extension": ".py",
   "mimetype": "text/x-python",
   "name": "python",
   "nbconvert_exporter": "python",
   "pygments_lexer": "ipython3",
   "version": "3.8.5"
  }
 },
 "nbformat": 4,
 "nbformat_minor": 4
}
