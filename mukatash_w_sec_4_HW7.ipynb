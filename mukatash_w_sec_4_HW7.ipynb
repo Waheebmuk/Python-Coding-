{
 "cells": [
  {
   "cell_type": "markdown",
   "metadata": {},
   "source": [
    "# Problem 7.1\n",
    "For this problem, I was to create a function that reterns ther higher number."
   ]
  },
  {
   "cell_type": "code",
   "execution_count": 15,
   "metadata": {},
   "outputs": [],
   "source": [
    "def larger_num():\n",
    "    a = int(input(\"First Number: \"))\n",
    "    b = int(input(\"Second Number: \"))\n",
    "    if a > b:\n",
    "        return(a)\n",
    "        \n",
    "    elif b > a:\n",
    "        return(b)"
   ]
  },
  {
   "cell_type": "code",
   "execution_count": 16,
   "metadata": {},
   "outputs": [
    {
     "name": "stdin",
     "output_type": "stream",
     "text": [
      "First Number:  5\n",
      "Second Number:  1\n"
     ]
    },
    {
     "data": {
      "text/plain": [
       "5"
      ]
     },
     "execution_count": 16,
     "metadata": {},
     "output_type": "execute_result"
    }
   ],
   "source": [
    "larger_num()"
   ]
  },
  {
   "cell_type": "markdown",
   "metadata": {},
   "source": [
    "**Solution:** To solve this problem I made my own function and used an if statement."
   ]
  },
  {
   "cell_type": "markdown",
   "metadata": {},
   "source": [
    "# Problem 7.2\n",
    "For this problem I was to create a function 'collatz' and have it return values for specific numbers."
   ]
  },
  {
   "cell_type": "code",
   "execution_count": 87,
   "metadata": {},
   "outputs": [],
   "source": [
    "def collatz(number):\n",
    "    if (number % 2) == 0:\n",
    "        number = number // 2\n",
    "        print(number)\n",
    "        return(number)\n",
    "    \n",
    "    elif (number % 2) != 0:\n",
    "        number = 3 * number + 1\n",
    "        print(number)\n",
    "        return(number)\n",
    "        "
   ]
  },
  {
   "cell_type": "code",
   "execution_count": 88,
   "metadata": {},
   "outputs": [
    {
     "name": "stdout",
     "output_type": "stream",
     "text": [
      "28\n"
     ]
    },
    {
     "data": {
      "text/plain": [
       "28"
      ]
     },
     "execution_count": 88,
     "metadata": {},
     "output_type": "execute_result"
    }
   ],
   "source": [
    "collatz(9)"
   ]
  },
  {
   "cell_type": "markdown",
   "metadata": {},
   "source": [
    "**Solution:** To solve this problem I used % division to determine whether the number is even or odd."
   ]
  },
  {
   "cell_type": "markdown",
   "metadata": {},
   "source": [
    "# Problem 7.3\n",
    "For this problem, I was to create a program in which a number is inputed and runs with collatz() until the returned value is 1. "
   ]
  },
  {
   "cell_type": "code",
   "execution_count": 89,
   "metadata": {},
   "outputs": [
    {
     "name": "stdin",
     "output_type": "stream",
     "text": [
      "Number : 3\n"
     ]
    },
    {
     "name": "stdout",
     "output_type": "stream",
     "text": [
      "10\n",
      "5\n",
      "16\n",
      "8\n",
      "4\n",
      "2\n",
      "1\n"
     ]
    }
   ],
   "source": [
    "x = input(\"Number :\")\n",
    "\n",
    "while x != 1:\n",
    "    x = collatz(int(x))\n",
    "    "
   ]
  },
  {
   "cell_type": "markdown",
   "metadata": {},
   "source": [
    "**Solution:** To solve this problem, I used the collatz function and put it in a while loop while its not equal to 1."
   ]
  },
  {
   "cell_type": "markdown",
   "metadata": {},
   "source": [
    "# Problem 7.4\n",
    "In this problem, I was to create a function that returns a day of the week based on the corresponding number."
   ]
  },
  {
   "cell_type": "code",
   "execution_count": 104,
   "metadata": {},
   "outputs": [],
   "source": [
    "def day_name(a):\n",
    "    if a == 0:\n",
    "        return(\"Sunday\")\n",
    "    elif a == 1:\n",
    "        return(\"Monday\")\n",
    "    elif a == 2:\n",
    "        return(\"Tuesday\")\n",
    "    elif a == 3:\n",
    "        return(\"Wednesday\")\n",
    "    elif a == 4:\n",
    "        return(\"Thursday\")\n",
    "    elif a == 5:\n",
    "        return(\"Friday\")\n",
    "    elif a == 6:\n",
    "        return(\"Saturday\")\n",
    "    else:\n",
    "        return(None)   "
   ]
  },
  {
   "cell_type": "code",
   "execution_count": 103,
   "metadata": {},
   "outputs": [
    {
     "data": {
      "text/plain": [
       "'Wednesday'"
      ]
     },
     "execution_count": 103,
     "metadata": {},
     "output_type": "execute_result"
    }
   ],
   "source": [
    "day_name(3)"
   ]
  },
  {
   "cell_type": "markdown",
   "metadata": {},
   "source": [
    "# Problem 7.5\n",
    "In this problem, I was to do the same as 7.4 but reversed."
   ]
  },
  {
   "cell_type": "code",
   "execution_count": 129,
   "metadata": {},
   "outputs": [],
   "source": [
    "def day_num(a):\n",
    "    if a == \"Sunday\":\n",
    "        return(0)\n",
    "    elif a == \"Monday\":\n",
    "        return(1)\n",
    "    elif a == \"Tuesday\":\n",
    "        return(2)\n",
    "    elif a == \"Wednesday\":\n",
    "        return(3)\n",
    "    elif a == \"Thursday\":\n",
    "        return(4)\n",
    "    elif a == \"Friday\":\n",
    "        return(5)\n",
    "    elif a == \"Saturday\":\n",
    "        return(6)\n",
    "    else:\n",
    "        return(None)\n"
   ]
  },
  {
   "cell_type": "code",
   "execution_count": 128,
   "metadata": {},
   "outputs": [
    {
     "data": {
      "text/plain": [
       "3"
      ]
     },
     "execution_count": 128,
     "metadata": {},
     "output_type": "execute_result"
    }
   ],
   "source": [
    "day_num(\"Wednesday\")"
   ]
  },
  {
   "cell_type": "markdown",
   "metadata": {},
   "source": [
    "**Solution:** To solve this problem I did the same as last but reversed. "
   ]
  },
  {
   "cell_type": "markdown",
   "metadata": {},
   "source": [
    "# Problem 7.6"
   ]
  },
  {
   "cell_type": "code",
   "execution_count": 180,
   "metadata": {},
   "outputs": [],
   "source": [
    "def day_add(a, b):\n",
    "    a = day_num(a)\n",
    "   \n",
    "    if (a + b) <= 6:\n",
    "        c = a + b\n",
    "        return day_name(c)\n",
    "    elif (a + b) > 6:\n",
    "        d = b // 7\n",
    "        f = b - (d*7)\n",
    "        g = f + a\n",
    "        return day_name(g)"
   ]
  },
  {
   "cell_type": "code",
   "execution_count": 181,
   "metadata": {},
   "outputs": [
    {
     "data": {
      "text/plain": [
       "'Wednesday'"
      ]
     },
     "execution_count": 181,
     "metadata": {},
     "output_type": "execute_result"
    }
   ],
   "source": [
    "day_add(\"Monday\",16)"
   ]
  },
  {
   "cell_type": "markdown",
   "metadata": {},
   "source": [
    "**Solution:** To solve this problem I had if & elif statements to mathematicly calculate what day it will be."
   ]
  },
  {
   "cell_type": "code",
   "execution_count": null,
   "metadata": {},
   "outputs": [],
   "source": []
  }
 ],
 "metadata": {
  "kernelspec": {
   "display_name": "Python 3",
   "language": "python",
   "name": "python3"
  },
  "language_info": {
   "codemirror_mode": {
    "name": "ipython",
    "version": 3
   },
   "file_extension": ".py",
   "mimetype": "text/x-python",
   "name": "python",
   "nbconvert_exporter": "python",
   "pygments_lexer": "ipython3",
   "version": "3.8.5"
  }
 },
 "nbformat": 4,
 "nbformat_minor": 4
}
