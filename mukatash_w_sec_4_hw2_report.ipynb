{
 "cells": [
  {
   "cell_type": "markdown",
   "metadata": {},
   "source": [
    "# Problem 2.1\n",
    "I was to use the Terminal tab (from launcher) to navigate to my ME 30 folder. After doing so I was to launch Python through the Terminal and run some simple code."
   ]
  },
  {
   "cell_type": "markdown",
   "metadata": {},
   "source": [
    "<img src=\"ME30_HW2_Terminal.png\" width=\"700\" height=\"700\" alt=\"term\" title=\"term\">"
   ]
  },
  {
   "cell_type": "markdown",
   "metadata": {},
   "source": [
    "**Solution:** I went to the launcher and was able to launch a terminal by clicking terminal (at the bootom of the page). From there, I used the ls function to display my folder, and include today's date by using \"date\". I navigated to my ME 30 folder by using the cd command. \n",
    "\n",
    "To launch Python, I simply typed \"Python\" and it launched python code. I then ran some simple code."
   ]
  },
  {
   "cell_type": "markdown",
   "metadata": {},
   "source": [
    "# Problem 2.2\n",
    "Still using Python through the Terminal I was to use the math library to evaluate sin(45) and sin(pi/4)."
   ]
  },
  {
   "cell_type": "markdown",
   "metadata": {},
   "source": [
    "<img src=\"ME30_HW2_Terminal_Math.png\" width=\"700\" height=\"700\" alt=\"term\" title=\"math\">"
   ]
  },
  {
   "cell_type": "markdown",
   "metadata": {},
   "source": [
    "**Solution:** I already had Python previously loaded into the terminal so I was able to continue to code. I could not simply using the math function without importing the math library, thus I ecountered an error. I then imported the math library, and was able to use the function for sin(45). However, sin needs radians so i then used a pi function from the math library to get the correct answer."
   ]
  },
  {
   "cell_type": "markdown",
   "metadata": {},
   "source": [
    "# Problem 2.3\n",
    "I was to use the Console tab to run some simple code."
   ]
  },
  {
   "cell_type": "markdown",
   "metadata": {},
   "source": [
    "<img src=\"ME30_HW2_Console.png\" width=\"700\" height=\"700\" alt=\"console ex\" title=\"console\">"
   ]
  },
  {
   "cell_type": "markdown",
   "metadata": {},
   "source": [
    "**Solution:** I was able to launch the Console tab through the launcher. In the console I ran some code and realized that there was no benefit in using the Console rather than a Notebook, so I returned to the Notebook."
   ]
  },
  {
   "cell_type": "markdown",
   "metadata": {},
   "source": [
    "# Problem 2.4\n",
    "For this problem, I was to code the basic math function y = mx + b, and have it return values for different inputs."
   ]
  },
  {
   "cell_type": "code",
   "execution_count": null,
   "metadata": {},
   "outputs": [],
   "source": [
    "m = 7\n",
    "b = 4"
   ]
  },
  {
   "cell_type": "code",
   "execution_count": 1,
   "metadata": {},
   "outputs": [
    {
     "ename": "NameError",
     "evalue": "name 'm' is not defined",
     "output_type": "error",
     "traceback": [
      "\u001b[0;31m---------------------------------------------------------------------------\u001b[0m",
      "\u001b[0;31mNameError\u001b[0m                                 Traceback (most recent call last)",
      "\u001b[0;32m<ipython-input-1-7adf6e166b39>\u001b[0m in \u001b[0;36m<module>\u001b[0;34m\u001b[0m\n\u001b[0;32m----> 1\u001b[0;31m \u001b[0my\u001b[0m \u001b[0;34m=\u001b[0m \u001b[0;34m(\u001b[0m\u001b[0mm\u001b[0m \u001b[0;34m*\u001b[0m \u001b[0mx\u001b[0m\u001b[0;34m)\u001b[0m \u001b[0;34m+\u001b[0m \u001b[0mb\u001b[0m\u001b[0;34m\u001b[0m\u001b[0;34m\u001b[0m\u001b[0m\n\u001b[0m",
      "\u001b[0;31mNameError\u001b[0m: name 'm' is not defined"
     ]
    }
   ],
   "source": [
    "y = (m * x) + b"
   ]
  },
  {
   "cell_type": "code",
   "execution_count": 2,
   "metadata": {},
   "outputs": [
    {
     "name": "stdout",
     "output_type": "stream",
     "text": [
      "4\n"
     ]
    }
   ],
   "source": [
    "m = 7\n",
    "b = 4\n",
    "x = 0\n",
    "y = (m * x) + b\n",
    "print(y)"
   ]
  },
  {
   "cell_type": "code",
   "execution_count": 11,
   "metadata": {},
   "outputs": [
    {
     "name": "stdout",
     "output_type": "stream",
     "text": [
      "0 4\n",
      "1 11\n",
      "2 18\n",
      "3 25\n",
      "4 32\n",
      "5 39\n"
     ]
    }
   ],
   "source": [
    "m=7 \n",
    "b=4\n",
    "\n",
    "for  x  in  [0, 1, 2, 3, 4, 5]: \n",
    "    y = (m * x) + b\n",
    "    print(x, y)"
   ]
  },
  {
   "cell_type": "markdown",
   "metadata": {},
   "source": [
    "**Solution:** To get the equation y = mx + b to be valid in Python I first had to define my variables. As seen in the begining I did not do so thus I ecountered an error. When I defined \"m\" \"b\" and \"x\" I then was able to create a valid function for y. After doing so, I created a for loop that gave me the y values when I inputed the x values 0-5.  "
   ]
  },
  {
   "cell_type": "markdown",
   "metadata": {},
   "source": [
    "# Problem 2.5\n",
    "I was to create a program that allows for user input, and eventualy use that knowledge to create a code of my own that lets users input values for \"m\" and \"b\" in the equation y = mx + b, then show the values for x from 0 to 5."
   ]
  },
  {
   "cell_type": "code",
   "execution_count": 5,
   "metadata": {},
   "outputs": [
    {
     "name": "stdout",
     "output_type": "stream",
     "text": [
      "Enter  a  number:\n"
     ]
    },
    {
     "name": "stdin",
     "output_type": "stream",
     "text": [
      " 3\n"
     ]
    },
    {
     "name": "stdout",
     "output_type": "stream",
     "text": [
      "OK,  it  looks  like  you  input:\n",
      "3\n",
      "It  appears  to  be  the  number,  half  of  which  is:\n",
      "1.5\n"
     ]
    }
   ],
   "source": [
    "print('Enter  a  number:') \n",
    "user_input = input()\n",
    "print('OK,  it  looks  like  you  input:') \n",
    "print(user_input)\n",
    "n = int(user_input)\n",
    "print('It  appears  to  be  the  number,  half  of  which  is:') \n",
    "print(n/2)"
   ]
  },
  {
   "cell_type": "code",
   "execution_count": 6,
   "metadata": {},
   "outputs": [
    {
     "name": "stdout",
     "output_type": "stream",
     "text": [
      "Enter  a  number:\n"
     ]
    },
    {
     "name": "stdin",
     "output_type": "stream",
     "text": [
      " Waheeb\n"
     ]
    },
    {
     "name": "stdout",
     "output_type": "stream",
     "text": [
      "OK,  it  looks  like  you  input:\n",
      "Waheeb\n"
     ]
    },
    {
     "ename": "ValueError",
     "evalue": "invalid literal for int() with base 10: 'Waheeb'",
     "output_type": "error",
     "traceback": [
      "\u001b[0;31m---------------------------------------------------------------------------\u001b[0m",
      "\u001b[0;31mValueError\u001b[0m                                Traceback (most recent call last)",
      "\u001b[0;32m<ipython-input-6-f747e276d689>\u001b[0m in \u001b[0;36m<module>\u001b[0;34m\u001b[0m\n\u001b[1;32m      3\u001b[0m \u001b[0mprint\u001b[0m\u001b[0;34m(\u001b[0m\u001b[0;34m'OK,  it  looks  like  you  input:'\u001b[0m\u001b[0;34m)\u001b[0m\u001b[0;34m\u001b[0m\u001b[0;34m\u001b[0m\u001b[0m\n\u001b[1;32m      4\u001b[0m \u001b[0mprint\u001b[0m\u001b[0;34m(\u001b[0m\u001b[0muser_input\u001b[0m\u001b[0;34m)\u001b[0m\u001b[0;34m\u001b[0m\u001b[0;34m\u001b[0m\u001b[0m\n\u001b[0;32m----> 5\u001b[0;31m \u001b[0mn\u001b[0m \u001b[0;34m=\u001b[0m \u001b[0mint\u001b[0m\u001b[0;34m(\u001b[0m\u001b[0muser_input\u001b[0m\u001b[0;34m)\u001b[0m\u001b[0;34m\u001b[0m\u001b[0;34m\u001b[0m\u001b[0m\n\u001b[0m\u001b[1;32m      6\u001b[0m \u001b[0mprint\u001b[0m\u001b[0;34m(\u001b[0m\u001b[0;34m'It  appears  to  be  the  number,  half  of  which  is:'\u001b[0m\u001b[0;34m)\u001b[0m\u001b[0;34m\u001b[0m\u001b[0;34m\u001b[0m\u001b[0m\n\u001b[1;32m      7\u001b[0m \u001b[0mprint\u001b[0m\u001b[0;34m(\u001b[0m\u001b[0mn\u001b[0m\u001b[0;34m/\u001b[0m\u001b[0;36m2\u001b[0m\u001b[0;34m)\u001b[0m\u001b[0;34m\u001b[0m\u001b[0;34m\u001b[0m\u001b[0m\n",
      "\u001b[0;31mValueError\u001b[0m: invalid literal for int() with base 10: 'Waheeb'"
     ]
    }
   ],
   "source": [
    "print('Enter  a  number:') \n",
    "user_input = input()\n",
    "print('OK,  it  looks  like  you  input:') \n",
    "print(user_input)\n",
    "n = int(user_input)\n",
    "print('It  appears  to  be  the  number,  half  of  which  is:') \n",
    "print(n/2)"
   ]
  },
  {
   "cell_type": "code",
   "execution_count": 7,
   "metadata": {},
   "outputs": [
    {
     "name": "stdout",
     "output_type": "stream",
     "text": [
      "Enter a value for m\n"
     ]
    },
    {
     "name": "stdin",
     "output_type": "stream",
     "text": [
      " 3\n"
     ]
    },
    {
     "name": "stdout",
     "output_type": "stream",
     "text": [
      "Your value for m is:\n",
      "3\n",
      "Enter a value for b\n"
     ]
    },
    {
     "name": "stdin",
     "output_type": "stream",
     "text": [
      " 2\n"
     ]
    },
    {
     "name": "stdout",
     "output_type": "stream",
     "text": [
      "Your value for b is:\n",
      "2\n",
      "Your values for x and y are:\n",
      "0 2\n",
      "1 5\n",
      "2 8\n",
      "3 11\n",
      "4 14\n",
      "5 17\n"
     ]
    }
   ],
   "source": [
    "print('Enter a value for m')\n",
    "userInputM = input()\n",
    "print('Your value for m is:')\n",
    "print(userInputM)\n",
    "m = int(userInputM)\n",
    "print('Enter a value for b')\n",
    "userInputB = input()\n",
    "print('Your value for b is:')\n",
    "print(userInputB)\n",
    "b = int(userInputB)\n",
    "print('Your values for x and y are:')\n",
    "for  x  in  [0, 1, 2, 3, 4, 5]: \n",
    "    y = (m * x) + b\n",
    "    print(x, y)\n"
   ]
  },
  {
   "cell_type": "markdown",
   "metadata": {},
   "source": [
    "**Solution:** First I practiced using the function input() and wrote short code that displays the values you input. Then in testing it, I inputed my name and encountered and error as 'Waheeb' is not an integer. Lastly to build my own code I first as users to input values for \"m\" and \"b\" using the function input(). After that, I created a for loop that displays valus of x from 0 to 5 using the inputed values from the user."
   ]
  },
  {
   "cell_type": "code",
   "execution_count": null,
   "metadata": {},
   "outputs": [],
   "source": []
  }
 ],
 "metadata": {
  "kernelspec": {
   "display_name": "Python 3",
   "language": "python",
   "name": "python3"
  },
  "language_info": {
   "codemirror_mode": {
    "name": "ipython",
    "version": 3
   },
   "file_extension": ".py",
   "mimetype": "text/x-python",
   "name": "python",
   "nbconvert_exporter": "python",
   "pygments_lexer": "ipython3",
   "version": "3.8.5"
  }
 },
 "nbformat": 4,
 "nbformat_minor": 4
}
